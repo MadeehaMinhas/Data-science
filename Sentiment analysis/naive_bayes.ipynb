{
  "nbformat": 4,
  "nbformat_minor": 0,
  "metadata": {
    "colab": {
      "provenance": []
    },
    "kernelspec": {
      "name": "python3",
      "display_name": "Python 3"
    }
  },
  "cells": [
    {
      "cell_type": "code",
      "metadata": {
        "id": "tepEYIsyq5OY",
        "colab": {
          "base_uri": "https://localhost:8080/",
          "height": 464
        },
        "outputId": "76d76bd0-1609-46d9-dc13-de3819b59683"
      },
      "source": [
        "import pandas as pd\n",
        "data = pd.read_csv('raw_data.csv',encoding='latin-1')\n",
        "data.head(5)"
      ],
      "execution_count": null,
      "outputs": [
        {
          "output_type": "execute_result",
          "data": {
            "text/html": [
              "<div>\n",
              "<style scoped>\n",
              "    .dataframe tbody tr th:only-of-type {\n",
              "        vertical-align: middle;\n",
              "    }\n",
              "\n",
              "    .dataframe tbody tr th {\n",
              "        vertical-align: top;\n",
              "    }\n",
              "\n",
              "    .dataframe thead th {\n",
              "        text-align: right;\n",
              "    }\n",
              "</style>\n",
              "<table border=\"1\" class=\"dataframe\">\n",
              "  <thead>\n",
              "    <tr style=\"text-align: right;\">\n",
              "      <th></th>\n",
              "      <th>Sno</th>\n",
              "      <th>Date</th>\n",
              "      <th>Headline</th>\n",
              "      <th>Covid</th>\n",
              "      <th>Sentiment</th>\n",
              "      <th>Description</th>\n",
              "      <th>Image</th>\n",
              "      <th>Source</th>\n",
              "    </tr>\n",
              "  </thead>\n",
              "  <tbody>\n",
              "    <tr>\n",
              "      <th>0</th>\n",
              "      <td>0</td>\n",
              "      <td>2020-04-29</td>\n",
              "      <td>Coronavirus cases reach 2,438 in Rajasthan; 81...</td>\n",
              "      <td>1</td>\n",
              "      <td>0</td>\n",
              "      <td>Rajasthan on Wednesday reported 74 new coronav...</td>\n",
              "      <td>https://static.inshorts.com/inshorts/images/v1...</td>\n",
              "      <td>http://www.rajswasthya.nic.in/?utm_campaign=fu...</td>\n",
              "    </tr>\n",
              "    <tr>\n",
              "      <th>1</th>\n",
              "      <td>1</td>\n",
              "      <td>2020-04-29</td>\n",
              "      <td>Coronavirus cases in Delhi surge to 3,439 afte...</td>\n",
              "      <td>1</td>\n",
              "      <td>0</td>\n",
              "      <td>The total number of coronavirus cases in Delhi...</td>\n",
              "      <td>https://static.inshorts.com/inshorts/images/v1...</td>\n",
              "      <td>https://twitter.com/shemin_joy/status/12555489...</td>\n",
              "    </tr>\n",
              "    <tr>\n",
              "      <th>2</th>\n",
              "      <td>2</td>\n",
              "      <td>2020-04-30</td>\n",
              "      <td>Anguished, I'll always recall our interactions...</td>\n",
              "      <td>0</td>\n",
              "      <td>1</td>\n",
              "      <td>Condoling the demise of actor Rishi Kapoor, PM...</td>\n",
              "      <td>https://static.inshorts.com/inshorts/images/v1...</td>\n",
              "      <td>https://twitter.com/narendramodi/status/125573...</td>\n",
              "    </tr>\n",
              "    <tr>\n",
              "      <th>3</th>\n",
              "      <td>3</td>\n",
              "      <td>2020-04-30</td>\n",
              "      <td>It's a terrible week for Indian cinema: Rahul ...</td>\n",
              "      <td>0</td>\n",
              "      <td>0</td>\n",
              "      <td>Congress leader Rahul Gandhi condoled Rishi Ka...</td>\n",
              "      <td>https://static.inshorts.com/inshorts/images/v1...</td>\n",
              "      <td>https://zeenews.india.com/india/politicians-mo...</td>\n",
              "    </tr>\n",
              "    <tr>\n",
              "      <th>4</th>\n",
              "      <td>4</td>\n",
              "      <td>2020-04-30</td>\n",
              "      <td>Delhi Police perform 'parikrama' of AIIMS to t...</td>\n",
              "      <td>1</td>\n",
              "      <td>1</td>\n",
              "      <td>As a sign of respect for healthcare profession...</td>\n",
              "      <td>https://static.inshorts.com/inshorts/images/v1...</td>\n",
              "      <td>https://zeenews.india.com/india/delhi-police-p...</td>\n",
              "    </tr>\n",
              "  </tbody>\n",
              "</table>\n",
              "</div>"
            ],
            "text/plain": [
              "   Sno  ...                                             Source\n",
              "0    0  ...  http://www.rajswasthya.nic.in/?utm_campaign=fu...\n",
              "1    1  ...  https://twitter.com/shemin_joy/status/12555489...\n",
              "2    2  ...  https://twitter.com/narendramodi/status/125573...\n",
              "3    3  ...  https://zeenews.india.com/india/politicians-mo...\n",
              "4    4  ...  https://zeenews.india.com/india/delhi-police-p...\n",
              "\n",
              "[5 rows x 8 columns]"
            ]
          },
          "metadata": {
            "tags": []
          },
          "execution_count": 1
        }
      ]
    },
    {
      "cell_type": "code",
      "metadata": {
        "id": "JMnvD9-67akk"
      },
      "source": [
        "def preprocess_text(sen):\n",
        "    # Removing html tags\n",
        "    sentence = remove_tags(sen)\n",
        "\n",
        "    # Remove punctuations and numbers\n",
        "    sentence = re.sub('[^a-zA-Z]', ' ', sentence)\n",
        "\n",
        "    # Single character removal\n",
        "    sentence = re.sub(r\"\\s+[a-zA-Z]\\s+\", ' ', sentence)\n",
        "\n",
        "    # Removing multiple spaces\n",
        "    sentence = re.sub(r'\\s+', ' ', sentence)\n",
        "\n",
        "    return sentence"
      ],
      "execution_count": null,
      "outputs": []
    },
    {
      "cell_type": "code",
      "metadata": {
        "id": "npphm1y77bbv"
      },
      "source": [
        "import re\n",
        "TAG_RE = re.compile(r'<[^>]+>')\n",
        "\n",
        "def remove_tags(text):\n",
        "    return TAG_RE.sub('', text)"
      ],
      "execution_count": null,
      "outputs": []
    },
    {
      "cell_type": "code",
      "metadata": {
        "id": "RdT58muAcz1v"
      },
      "source": [
        "from sklearn.naive_bayes import BernoulliNB\n",
        "from sklearn import metrics\n",
        "def predict():\n",
        "  X = []\n",
        "  sentences = list(data['Headline'])\n",
        "  for sen in sentences:\n",
        "      X.append(preprocess_text(sen))\n",
        "  tf_idf=TfidfVectorizer()\n",
        "  textcount=tf_idf.fit_transform(X)\n",
        "  X_train, X_test, Y_train, Y_test = train_test_split(textcount,data['Sentiment'], test_size=0.25, random_state=5)\n",
        "  mnb=BernoulliNB()\n",
        "  mnb.fit(X_train,Y_train)\n",
        "  predict=mnb.predict(X_test)\n",
        "  accuracy=metrics.accuracy_score(predict,Y_test)\n",
        "  print(str('{:04.2f}'.format(accuracy*100))+'%')\n"
      ],
      "execution_count": null,
      "outputs": []
    },
    {
      "cell_type": "code",
      "metadata": {
        "colab": {
          "base_uri": "https://localhost:8080/"
        },
        "id": "DdDtHf4FwirG",
        "outputId": "1b8f45d6-7be4-4fac-82f5-1c282c65469d"
      },
      "source": [
        "#data.Sentiment.value_counts()"
      ],
      "execution_count": null,
      "outputs": [
        {
          "output_type": "execute_result",
          "data": {
            "text/plain": [
              "0    2742\n",
              "1    1330\n",
              "Name: Sentiment, dtype: int64"
            ]
          },
          "metadata": {
            "tags": []
          },
          "execution_count": 6
        }
      ]
    },
    {
      "cell_type": "code",
      "metadata": {
        "id": "xM2LwVFUceGz"
      },
      "source": [],
      "execution_count": null,
      "outputs": []
    },
    {
      "cell_type": "code",
      "metadata": {
        "id": "nFtfcce9xNR3"
      },
      "source": [
        "from sklearn.feature_extraction.text import TfidfVectorizer\n",
        "from sklearn.model_selection import train_test_split\n",
        "\n",
        "\n"
      ],
      "execution_count": null,
      "outputs": []
    },
    {
      "cell_type": "code",
      "metadata": {
        "colab": {
          "base_uri": "https://localhost:8080/"
        },
        "id": "fikBU7pPyubG",
        "outputId": "5071e827-1ece-4197-962f-595fe33b7bb1"
      },
      "source": [
        "\n"
      ],
      "execution_count": null,
      "outputs": [
        {
          "output_type": "stream",
          "text": [
            "79.67%\n"
          ],
          "name": "stdout"
        }
      ]
    },
    {
      "cell_type": "code",
      "metadata": {
        "id": "lmwH8A1xztUH"
      },
      "source": [
        "#mnb: 75.83, bnb: 79.67 , gnb:63.36 ,cnb:78"
      ],
      "execution_count": null,
      "outputs": []
    }
  ]
}