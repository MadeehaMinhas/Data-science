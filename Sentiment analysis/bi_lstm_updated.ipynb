{
  "nbformat": 4,
  "nbformat_minor": 0,
  "metadata": {
    "colab": {
      "provenance": []
    },
    "kernelspec": {
      "name": "python3",
      "display_name": "Python 3"
    }
  },
  "cells": [
    {
      "cell_type": "code",
      "metadata": {
        "id": "wYJgL5Er-JQT"
      },
      "source": [
        "import pandas as pd\n",
        "import numpy as np\n",
        "import re\n",
        "import nltk\n",
        "from nltk.corpus import stopwords\n",
        "import matplotlib.pyplot as plt\n",
        "from numpy import array\n",
        "from keras.preprocessing.text import one_hot\n",
        "from keras.preprocessing.sequence import pad_sequences\n",
        "from keras.models import Sequential\n",
        "from keras.layers.core import Activation, Dropout, Dense\n",
        "from keras.layers import Flatten\n",
        "from keras.layers import GlobalMaxPooling1D\n",
        "from keras.layers.embeddings import Embedding\n",
        "from sklearn.model_selection import train_test_split\n",
        "from keras.preprocessing.text import Tokenizer\n"
      ],
      "execution_count": null,
      "outputs": []
    },
    {
      "cell_type": "code",
      "metadata": {
        "colab": {
          "base_uri": "https://localhost:8080/",
          "height": 464
        },
        "id": "QddmPFq8-P-K",
        "outputId": "207f75bb-4682-43fc-b60a-10221210a402"
      },
      "source": [
        "import pandas as pd\n",
        "df=pd.read_csv(\"raw_data.csv\",encoding='latin-1')\n",
        "df.head(5)"
      ],
      "execution_count": null,
      "outputs": [
        {
          "output_type": "execute_result",
          "data": {
            "text/html": [
              "<div>\n",
              "<style scoped>\n",
              "    .dataframe tbody tr th:only-of-type {\n",
              "        vertical-align: middle;\n",
              "    }\n",
              "\n",
              "    .dataframe tbody tr th {\n",
              "        vertical-align: top;\n",
              "    }\n",
              "\n",
              "    .dataframe thead th {\n",
              "        text-align: right;\n",
              "    }\n",
              "</style>\n",
              "<table border=\"1\" class=\"dataframe\">\n",
              "  <thead>\n",
              "    <tr style=\"text-align: right;\">\n",
              "      <th></th>\n",
              "      <th>Sno</th>\n",
              "      <th>Date</th>\n",
              "      <th>Headline</th>\n",
              "      <th>Covid</th>\n",
              "      <th>Sentiment</th>\n",
              "      <th>Description</th>\n",
              "      <th>Image</th>\n",
              "      <th>Source</th>\n",
              "    </tr>\n",
              "  </thead>\n",
              "  <tbody>\n",
              "    <tr>\n",
              "      <th>0</th>\n",
              "      <td>0</td>\n",
              "      <td>2020-04-29</td>\n",
              "      <td>Coronavirus cases reach 2,438 in Rajasthan; 81...</td>\n",
              "      <td>1</td>\n",
              "      <td>0</td>\n",
              "      <td>Rajasthan on Wednesday reported 74 new coronav...</td>\n",
              "      <td>https://static.inshorts.com/inshorts/images/v1...</td>\n",
              "      <td>http://www.rajswasthya.nic.in/?utm_campaign=fu...</td>\n",
              "    </tr>\n",
              "    <tr>\n",
              "      <th>1</th>\n",
              "      <td>1</td>\n",
              "      <td>2020-04-29</td>\n",
              "      <td>Coronavirus cases in Delhi surge to 3,439 afte...</td>\n",
              "      <td>1</td>\n",
              "      <td>0</td>\n",
              "      <td>The total number of coronavirus cases in Delhi...</td>\n",
              "      <td>https://static.inshorts.com/inshorts/images/v1...</td>\n",
              "      <td>https://twitter.com/shemin_joy/status/12555489...</td>\n",
              "    </tr>\n",
              "    <tr>\n",
              "      <th>2</th>\n",
              "      <td>2</td>\n",
              "      <td>2020-04-30</td>\n",
              "      <td>Anguished, I'll always recall our interactions...</td>\n",
              "      <td>0</td>\n",
              "      <td>1</td>\n",
              "      <td>Condoling the demise of actor Rishi Kapoor, PM...</td>\n",
              "      <td>https://static.inshorts.com/inshorts/images/v1...</td>\n",
              "      <td>https://twitter.com/narendramodi/status/125573...</td>\n",
              "    </tr>\n",
              "    <tr>\n",
              "      <th>3</th>\n",
              "      <td>3</td>\n",
              "      <td>2020-04-30</td>\n",
              "      <td>It's a terrible week for Indian cinema: Rahul ...</td>\n",
              "      <td>0</td>\n",
              "      <td>0</td>\n",
              "      <td>Congress leader Rahul Gandhi condoled Rishi Ka...</td>\n",
              "      <td>https://static.inshorts.com/inshorts/images/v1...</td>\n",
              "      <td>https://zeenews.india.com/india/politicians-mo...</td>\n",
              "    </tr>\n",
              "    <tr>\n",
              "      <th>4</th>\n",
              "      <td>4</td>\n",
              "      <td>2020-04-30</td>\n",
              "      <td>Delhi Police perform 'parikrama' of AIIMS to t...</td>\n",
              "      <td>1</td>\n",
              "      <td>1</td>\n",
              "      <td>As a sign of respect for healthcare profession...</td>\n",
              "      <td>https://static.inshorts.com/inshorts/images/v1...</td>\n",
              "      <td>https://zeenews.india.com/india/delhi-police-p...</td>\n",
              "    </tr>\n",
              "  </tbody>\n",
              "</table>\n",
              "</div>"
            ],
            "text/plain": [
              "   Sno  ...                                             Source\n",
              "0    0  ...  http://www.rajswasthya.nic.in/?utm_campaign=fu...\n",
              "1    1  ...  https://twitter.com/shemin_joy/status/12555489...\n",
              "2    2  ...  https://twitter.com/narendramodi/status/125573...\n",
              "3    3  ...  https://zeenews.india.com/india/politicians-mo...\n",
              "4    4  ...  https://zeenews.india.com/india/delhi-police-p...\n",
              "\n",
              "[5 rows x 8 columns]"
            ]
          },
          "metadata": {
            "tags": []
          },
          "execution_count": 2
        }
      ]
    },
    {
      "cell_type": "code",
      "metadata": {
        "id": "4o1pDphS-Tci"
      },
      "source": [
        "df=df.sample(frac=1)"
      ],
      "execution_count": null,
      "outputs": []
    },
    {
      "cell_type": "code",
      "metadata": {
        "colab": {
          "base_uri": "https://localhost:8080/",
          "height": 403
        },
        "id": "pdTn8Jlm-X8j",
        "outputId": "e25536fe-8ca9-49bc-bc4b-5e090aff6402"
      },
      "source": [
        "import seaborn as sns\n",
        "df_New=df[['Headline','Sentiment']]\n",
        "df_New['Sentiment']=df_New['Sentiment'].map({0:'Negative',1:'Positive'})\n",
        "sns.countplot(x='Sentiment', data=df_New)"
      ],
      "execution_count": null,
      "outputs": [
        {
          "output_type": "stream",
          "text": [
            "/usr/local/lib/python3.6/dist-packages/ipykernel_launcher.py:3: SettingWithCopyWarning: \n",
            "A value is trying to be set on a copy of a slice from a DataFrame.\n",
            "Try using .loc[row_indexer,col_indexer] = value instead\n",
            "\n",
            "See the caveats in the documentation: https://pandas.pydata.org/pandas-docs/stable/user_guide/indexing.html#returning-a-view-versus-a-copy\n",
            "  This is separate from the ipykernel package so we can avoid doing imports until\n"
          ],
          "name": "stderr"
        },
        {
          "output_type": "execute_result",
          "data": {
            "text/plain": [
              "<matplotlib.axes._subplots.AxesSubplot at 0x7faf52fe7128>"
            ]
          },
          "metadata": {
            "tags": []
          },
          "execution_count": 4
        },
        {
          "output_type": "display_data",
          "data": {
            "image/png": "[encoded data removed]",
            "text/plain": [
              "<Figure size 432x288 with 1 Axes>"
            ]
          },
          "metadata": {
            "tags": [],
            "needs_background": "light"
          }
        }
      ]
    },
    {
      "cell_type": "code",
      "metadata": {
        "id": "wzlkHHhL-bF-"
      },
      "source": [
        "def preprocess_text(sen):\n",
        "    # Removing html tags\n",
        "    sentence = remove_tags(sen)\n",
        "\n",
        "    # Remove punctuations and numbers\n",
        "    sentence = re.sub('[^a-zA-Z]', ' ', sentence)\n",
        "\n",
        "    # Single character removal\n",
        "    sentence = re.sub(r\"\\s+[a-zA-Z]\\s+\", ' ', sentence)\n",
        "\n",
        "    # Removing multiple spaces\n",
        "    sentence = re.sub(r'\\s+', ' ', sentence)\n",
        "\n",
        "    return sentence"
      ],
      "execution_count": null,
      "outputs": []
    },
    {
      "cell_type": "code",
      "metadata": {
        "id": "9dgjIEpO-euf"
      },
      "source": [
        "TAG_RE = re.compile(r'<[^>]+>')\n",
        "\n",
        "def remove_tags(text):\n",
        "    return TAG_RE.sub('', text)"
      ],
      "execution_count": null,
      "outputs": []
    },
    {
      "cell_type": "code",
      "metadata": {
        "id": "suGh1H7R-jq8"
      },
      "source": [
        "from keras.utils import to_categorical\n",
        "from keras import layers\n",
        "from tensorflow.keras.layers import SpatialDropout1D\n",
        "import numpy as np\n",
        "def predict():\n",
        "  X = []\n",
        "  sentences = list(df['Headline'])\n",
        "  for sen in sentences:\n",
        "      X.append(preprocess_text(sen))\n",
        "  y=df['Sentiment']\n",
        "  X_train, X_test, y_train, y_test = train_test_split(X, y, test_size=0.20, random_state=42)\n",
        "  tokenizer = Tokenizer(num_words=5000)\n",
        "  tokenizer.fit_on_texts(X_train)\n",
        "\n",
        "  X_train = tokenizer.texts_to_sequences(X_train)\n",
        "  X_test = tokenizer.texts_to_sequences(X_test)\n",
        "  vocab_size = len(tokenizer.word_index) + 1\n",
        "\n",
        "  maxlen = 100\n",
        "\n",
        "  X_train = pad_sequences(X_train, padding='post', maxlen=maxlen)\n",
        "  X_test = pad_sequences(X_test, padding='post', maxlen=maxlen)\n",
        "  y_train.shape\n",
        "  print(y_train[:5])\n",
        "  y_train = to_categorical(y_train, 3)\n",
        "  y_test = to_categorical(y_test, 3)\n",
        "\n",
        "\n",
        "\n",
        "  model2 = Sequential()\n",
        "  model2.add(layers.Embedding(vocab_size, 100, input_length=maxlen))\n",
        "  model2.add(SpatialDropout1D(0.5))\n",
        "\n",
        "  model2.add(layers.Bidirectional(layers.LSTM(8,dropout=0.4,recurrent_dropout=0.2,return_sequences=True)))\n",
        "  model2.add(Dropout(0.5))\n",
        "\n",
        "  model2.add(layers.Bidirectional(layers.LSTM(8,dropout=0.4,recurrent_dropout=0.2)))\n",
        "  model2.add(Dropout(0.5))\n",
        "\n",
        "  #model2.add(layers.Dense(100,activation='relu'))\n",
        "  model2.add(layers.Dense(3,activation='sigmoid'))\n",
        "  model2.summary()\n",
        "  model2.compile(optimizer='adam',loss='binary_crossentropy', metrics=['accuracy'])\n",
        "  #checkpoint2 = ModelCheckpoint(\"best_model2.hdf5\", monitor='val_accuracy', verbose=1,save_best_only=True, mode='auto', period=1,save_weights_only=False)\n",
        "  history = model2.fit(X_train, y_train, batch_size=128, epochs=10, verbose=1, validation_split=0.3)\n",
        "  score=model2.evaluate(X_test,y_test,verbose=0)\n",
        "  print('Test loss',score[0])\n",
        "  print('Test accuracy',score[1])\n",
        "  print(history.history.keys())\n",
        "  plt.plot(history.history['accuracy'])\n",
        "  plt.plot(history.history['val_accuracy'])\n",
        "  plt.title('model accuracy')\n",
        "  plt.ylabel('accuracy')\n",
        "  plt.xlabel('epoch')\n",
        "  plt.legend(['train','test'],loc='upper left')\n",
        "  plt.show()\n",
        "\n",
        "  plt.plot(history.history['loss'])\n",
        "  plt.plot(history.history['val_loss'])\n",
        "  plt.title('model loss')\n",
        "  plt.ylabel('loss')\n",
        "  plt.xlabel('epoch')\n",
        "  plt.legend(['train','test'],loc='upper left')\n",
        "  plt.show()\n",
        "  "
      ],
      "execution_count": null,
      "outputs": []
    },
    {
      "cell_type": "code",
      "metadata": {
        "id": "YApsIK9z-nR-",
        "colab": {
          "base_uri": "https://localhost:8080/",
          "height": 1000
        },
        "outputId": "d0951e3c-94c3-4561-b32f-29002c032a2e"
      },
      "source": [
        "predict()\n",
        "\n",
        "\n"
      ],
      "execution_count": null,
      "outputs": [
        {
          "output_type": "stream",
          "text": [
            "4035    0\n",
            "1765    1\n",
            "3488    0\n",
            "949     0\n",
            "2339    0\n",
            "Name: Sentiment, dtype: int64\n",
            "Model: \"sequential\"\n",
            "_________________________________________________________________\n",
            "Layer (type)                 Output Shape              Param #   \n",
            "=================================================================\n",
            "embedding (Embedding)        (None, 100, 100)          540000    \n",
            "_________________________________________________________________\n",
            "spatial_dropout1d (SpatialDr (None, 100, 100)          0         \n",
            "_________________________________________________________________\n",
            "bidirectional (Bidirectional (None, 100, 16)           6976      \n",
            "_________________________________________________________________\n",
            "dropout (Dropout)            (None, 100, 16)           0         \n",
            "_________________________________________________________________\n",
            "bidirectional_1 (Bidirection (None, 16)                1600      \n",
            "_________________________________________________________________\n",
            "dropout_1 (Dropout)          (None, 16)                0         \n",
            "_________________________________________________________________\n",
            "dense (Dense)                (None, 3)                 51        \n",
            "=================================================================\n",
            "Total params: 548,627\n",
            "Trainable params: 548,627\n",
            "Non-trainable params: 0\n",
            "_________________________________________________________________\n",
            "Epoch 1/10\n",
            "18/18 [==============================] - 21s 573ms/step - loss: 0.6760 - accuracy: 0.5442 - val_loss: 0.6042 - val_accuracy: 0.6605\n",
            "Epoch 2/10\n",
            "18/18 [==============================] - 9s 490ms/step - loss: 0.5880 - accuracy: 0.6602 - val_loss: 0.5034 - val_accuracy: 0.6605\n",
            "Epoch 3/10\n",
            "18/18 [==============================] - 9s 488ms/step - loss: 0.5069 - accuracy: 0.6618 - val_loss: 0.4678 - val_accuracy: 0.6605\n",
            "Epoch 4/10\n",
            "18/18 [==============================] - 9s 509ms/step - loss: 0.4910 - accuracy: 0.6735 - val_loss: 0.4572 - val_accuracy: 0.6605\n",
            "Epoch 5/10\n",
            "18/18 [==============================] - 9s 500ms/step - loss: 0.4749 - accuracy: 0.6623 - val_loss: 0.4505 - val_accuracy: 0.6605\n",
            "Epoch 6/10\n",
            "18/18 [==============================] - 9s 490ms/step - loss: 0.4586 - accuracy: 0.6832 - val_loss: 0.4445 - val_accuracy: 0.6605\n",
            "Epoch 7/10\n",
            "18/18 [==============================] - 9s 493ms/step - loss: 0.4640 - accuracy: 0.6593 - val_loss: 0.4360 - val_accuracy: 0.6605\n",
            "Epoch 8/10\n",
            "18/18 [==============================] - 9s 492ms/step - loss: 0.4447 - accuracy: 0.6873 - val_loss: 0.4229 - val_accuracy: 0.6605\n",
            "Epoch 9/10\n",
            "18/18 [==============================] - 9s 490ms/step - loss: 0.4479 - accuracy: 0.6617 - val_loss: 0.4041 - val_accuracy: 0.6605\n",
            "Epoch 10/10\n",
            "18/18 [==============================] - 9s 500ms/step - loss: 0.4073 - accuracy: 0.7081 - val_loss: 0.3784 - val_accuracy: 0.6605\n",
            "Test loss 0.3788187503814697\n",
            "Test accuracy 0.6748466491699219\n",
            "dict_keys(['loss', 'accuracy', 'val_loss', 'val_accuracy'])\n"
          ],
          "name": "stdout"
        },
        {
          "output_type": "display_data",
          "data": {
            "image/png": "[encoded data removed]",
            "text/plain": [
              "<Figure size 432x288 with 1 Axes>"
            ]
          },
          "metadata": {
            "tags": [],
            "needs_background": "light"
          }
        },
        {
          "output_type": "display_data",
          "data": {
            "image/png": "[encoded data removed]",
            "text/plain": [
              "<Figure size 432x288 with 1 Axes>"
            ]
          },
          "metadata": {
            "tags": [],
            "needs_background": "light"
          }
        }
      ]
    },
    {
      "cell_type": "code",
      "metadata": {
        "id": "SFIGE81--oLx"
      },
      "source": [],
      "execution_count": null,
      "outputs": []
    }
  ]
}