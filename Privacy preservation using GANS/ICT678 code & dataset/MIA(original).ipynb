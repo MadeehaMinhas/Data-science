{
  "cells": [
    {
      "cell_type": "code",
      "execution_count": null,
      "metadata": {
        "colab": {
          "base_uri": "https://localhost:8080/"
        },
        "id": "dCh0XeU5J30g",
        "outputId": "15b59b20-6f0d-47b8-f50e-af8283ca2e76"
      },
      "outputs": [
        {
          "name": "stdout",
          "output_type": "stream",
          "text": [
            "Collecting adversarial-robustness-toolbox\n",
            "  Downloading adversarial_robustness_toolbox-1.18.1-py3-none-any.whl.metadata (11 kB)\n",
            "Requirement already satisfied: numpy>=1.18.0 in /usr/local/lib/python3.10/dist-packages (from adversarial-robustness-toolbox) (1.26.4)\n",
            "Requirement already satisfied: scipy>=1.4.1 in /usr/local/lib/python3.10/dist-packages (from adversarial-robustness-toolbox) (1.13.1)\n",
            "Requirement already satisfied: scikit-learn>=0.22.2 in /usr/local/lib/python3.10/dist-packages (from adversarial-robustness-toolbox) (1.3.2)\n",
            "Requirement already satisfied: six in /usr/local/lib/python3.10/dist-packages (from adversarial-robustness-toolbox) (1.16.0)\n",
            "Requirement already satisfied: setuptools in /usr/local/lib/python3.10/dist-packages (from adversarial-robustness-toolbox) (71.0.4)\n",
            "Requirement already satisfied: tqdm in /usr/local/lib/python3.10/dist-packages (from adversarial-robustness-toolbox) (4.66.5)\n",
            "Requirement already satisfied: joblib>=1.1.1 in /usr/local/lib/python3.10/dist-packages (from scikit-learn>=0.22.2->adversarial-robustness-toolbox) (1.4.2)\n",
            "Requirement already satisfied: threadpoolctl>=2.0.0 in /usr/local/lib/python3.10/dist-packages (from scikit-learn>=0.22.2->adversarial-robustness-toolbox) (3.5.0)\n",
            "Downloading adversarial_robustness_toolbox-1.18.1-py3-none-any.whl (1.7 MB)\n",
            "\u001b[2K   \u001b[90m━━━━━━━━━━━━━━━━━━━━━━━━━━━━━━━━━━━━━━━━\u001b[0m \u001b[32m1.7/1.7 MB\u001b[0m \u001b[31m16.5 MB/s\u001b[0m eta \u001b[36m0:00:00\u001b[0m\n",
            "\u001b[?25hInstalling collected packages: adversarial-robustness-toolbox\n",
            "Successfully installed adversarial-robustness-toolbox-1.18.1\n"
          ]
        }
      ],
      "source": [
        "!pip install adversarial-robustness-toolbox"
      ]
    },
    {
      "cell_type": "code",
      "execution_count": null,
      "metadata": {
        "id": "Q6Ude6ZpAFii"
      },
      "outputs": [],
      "source": [
        "# Import libraries\n",
        "import os\n",
        "import pandas as pd\n",
        "import numpy as np\n",
        "import matplotlib.pyplot as plt\n",
        "import seaborn as sns\n",
        "from itertools import combinations\n",
        "from sklearn.model_selection import train_test_split\n",
        "from sklearn.preprocessing import MinMaxScaler,LabelEncoder\n",
        "from sklearn.ensemble import AdaBoostClassifier\n",
        "from imblearn.under_sampling import RandomUnderSampler\n",
        "from sklearn.metrics import roc_curve,auc\n",
        "from sklearn.metrics import confusion_matrix,classification_report,ConfusionMatrixDisplay\n",
        "import tarfile\n",
        "from pandas.errors import EmptyDataError\n",
        "import time\n",
        "from sklearn.model_selection import GridSearchCV\n"
      ]
    },
    {
      "cell_type": "code",
      "execution_count": null,
      "metadata": {
        "collapsed": true,
        "id": "t-fY3uNhBPM6"
      },
      "outputs": [],
      "source": [
        "\n",
        "\n",
        "train=pd.read_csv('Combined_IoT_profiling_dataset_2022_train_set.csv')\n",
        "train=train.iloc[:,1:]\n",
        "test=pd.read_csv('Combined_IoT_profiling_dataset_2022_test_set.csv')\n",
        "test=test.iloc[:,1:]"
      ]
    },
    {
      "cell_type": "code",
      "execution_count": null,
      "metadata": {
        "id": "rsF4l6O_BWgR"
      },
      "outputs": [],
      "source": [
        "# Removing infinity and nan values\n",
        "train.replace(np.inf,np.nan,inplace=True)\n",
        "train.replace(-np.inf,np.nan,inplace=True)\n",
        "train.dropna(inplace=True)\n",
        "test.replace(np.inf,np.nan,inplace=True)\n",
        "test.replace(-np.inf,np.nan,inplace=True)\n",
        "test.dropna(inplace=True)\n"
      ]
    },
    {
      "cell_type": "code",
      "execution_count": null,
      "metadata": {
        "id": "ez7vTSuXBZF_"
      },
      "outputs": [],
      "source": [
        "#Removing duplicates\n",
        "train.drop_duplicates(inplace=True)\n",
        "\n",
        "test.drop_duplicates(inplace=True)"
      ]
    },
    {
      "cell_type": "code",
      "execution_count": null,
      "metadata": {
        "id": "5a1aEc09Bcw5"
      },
      "outputs": [],
      "source": [
        "corr_cols=['L7_https','most_freq_sport','pck_size','cnt','most_freq_dport','most_freq_prot','min_et', 'max_et','med_et','average_et','q3','q1', 'min_e', 'max_e', 'med', 'average', 'q3_e', 'q1_e' , 'time_since_previously_displayed_frame','port_class_src','port_class_dst','pck_size','total_length','ip_dst_new', 'L4_tcp', 'NTP_count','most_freq_d_ip','sum_e','skew_e', 'iqr','var','iqr_e','L4_udp']\n",
        "train.drop(columns=corr_cols,axis=1,inplace=True)\n",
        "\n",
        "test.drop(columns=corr_cols,axis=1,inplace=True)"
      ]
    },
    {
      "cell_type": "code",
      "execution_count": null,
      "metadata": {
        "colab": {
          "base_uri": "https://localhost:8080/"
        },
        "id": "qMdJfoH7m3_d",
        "outputId": "accd1134-c649-4ca1-8258-e7a5b0accb76"
      },
      "outputs": [
        {
          "data": {
            "text/plain": [
              "(184835, 17)"
            ]
          },
          "execution_count": 8,
          "metadata": {},
          "output_type": "execute_result"
        }
      ],
      "source": [
        "train.shape"
      ]
    },
    {
      "cell_type": "code",
      "execution_count": null,
      "metadata": {
        "colab": {
          "base_uri": "https://localhost:8080/"
        },
        "id": "UhttgTdRm6pq",
        "outputId": "55b0845b-fa79-4585-9db7-d61a754f3594"
      },
      "outputs": [
        {
          "data": {
            "text/plain": [
              "(46184, 17)"
            ]
          },
          "execution_count": 9,
          "metadata": {},
          "output_type": "execute_result"
        }
      ],
      "source": [
        "test.shape"
      ]
    },
    {
      "cell_type": "code",
      "execution_count": null,
      "metadata": {
        "id": "3RkKV9I-BhsQ"
      },
      "outputs": [],
      "source": [
        "train_df=train.copy()\n",
        "mask = train_df['label'].str.contains('Camera')\n",
        "train_df.loc[mask, 'label'] = 'Camera'\n",
        "mask = train_df['label'].str.contains('Audio')\n",
        "train_df.loc[mask, 'label'] = 'Audio'\n",
        "mask = train_df['label'].str.contains('Home Automation')\n",
        "train_df.loc[mask, 'label'] = 'Home Automation'"
      ]
    },
    {
      "cell_type": "code",
      "execution_count": null,
      "metadata": {
        "id": "3SH-IuyYBkJD"
      },
      "outputs": [],
      "source": [
        "test_df=test.copy()\n",
        "mask = test_df['label'].str.contains('Camera')\n",
        "test_df.loc[mask, 'label'] = 'Camera'\n",
        "mask = test_df['label'].str.contains('Audio')\n",
        "test_df.loc[mask, 'label'] = 'Audio'\n",
        "mask = test_df['label'].str.contains('Home Automation')\n",
        "test_df.loc[mask, 'label'] = 'Home Automation'"
      ]
    },
    {
      "cell_type": "code",
      "execution_count": null,
      "metadata": {
        "colab": {
          "base_uri": "https://localhost:8080/"
        },
        "id": "gsr_4u2aBoda",
        "outputId": "a00ec3ff-aece-4874-b6d0-cc0ee770b2bd"
      },
      "outputs": [
        {
          "data": {
            "text/plain": [
              "array([0, 1, 2])"
            ]
          },
          "execution_count": 13,
          "metadata": {},
          "output_type": "execute_result"
        }
      ],
      "source": [
        "label_encoder = LabelEncoder()\n",
        "train_df['label']=label_encoder.fit_transform(train_df['label'])\n",
        "train_df['label'].unique()"
      ]
    },
    {
      "cell_type": "code",
      "execution_count": null,
      "metadata": {
        "colab": {
          "base_uri": "https://localhost:8080/",
          "height": 209
        },
        "id": "SuxUI-xHVcR6",
        "outputId": "2522a4b5-dd70-44b9-9ef4-fcfde7ea18d3"
      },
      "outputs": [
        {
          "data": {
            "text/html": [
              "<div>\n",
              "<style scoped>\n",
              "    .dataframe tbody tr th:only-of-type {\n",
              "        vertical-align: middle;\n",
              "    }\n",
              "\n",
              "    .dataframe tbody tr th {\n",
              "        vertical-align: top;\n",
              "    }\n",
              "\n",
              "    .dataframe thead th {\n",
              "        text-align: right;\n",
              "    }\n",
              "</style>\n",
              "<table border=\"1\" class=\"dataframe\">\n",
              "  <thead>\n",
              "    <tr style=\"text-align: right;\">\n",
              "      <th></th>\n",
              "      <th>count</th>\n",
              "    </tr>\n",
              "    <tr>\n",
              "      <th>label</th>\n",
              "      <th></th>\n",
              "    </tr>\n",
              "  </thead>\n",
              "  <tbody>\n",
              "    <tr>\n",
              "      <th>1</th>\n",
              "      <td>153937</td>\n",
              "    </tr>\n",
              "    <tr>\n",
              "      <th>2</th>\n",
              "      <td>15864</td>\n",
              "    </tr>\n",
              "    <tr>\n",
              "      <th>0</th>\n",
              "      <td>15034</td>\n",
              "    </tr>\n",
              "  </tbody>\n",
              "</table>\n",
              "</div><br><label><b>dtype:</b> int64</label>"
            ],
            "text/plain": [
              "label\n",
              "1    153937\n",
              "2     15864\n",
              "0     15034\n",
              "Name: count, dtype: int64"
            ]
          },
          "execution_count": 14,
          "metadata": {},
          "output_type": "execute_result"
        }
      ],
      "source": [
        "train_df['label'].value_counts()"
      ]
    },
    {
      "cell_type": "code",
      "execution_count": null,
      "metadata": {
        "colab": {
          "base_uri": "https://localhost:8080/"
        },
        "id": "xkS_HIGbBpDz",
        "outputId": "1b3f1ff9-b83a-4e31-afe0-31d369318545"
      },
      "outputs": [
        {
          "data": {
            "text/plain": [
              "array([0, 2, 1])"
            ]
          },
          "execution_count": 15,
          "metadata": {},
          "output_type": "execute_result"
        }
      ],
      "source": [
        "label_encoder = LabelEncoder()\n",
        "test_df['label']=label_encoder.fit_transform(test_df['label'])\n",
        "test_df['label'].unique()"
      ]
    },
    {
      "cell_type": "code",
      "execution_count": null,
      "metadata": {
        "id": "IGe9_JN2B8o2"
      },
      "outputs": [],
      "source": [
        "\n",
        "train_X=train_df.drop(columns='label')\n",
        "train_y=train_df['label'].astype('int')\n",
        "test_X=test_df.drop(columns='label')\n",
        "test_y=test_df['label'].astype('int')\n"
      ]
    },
    {
      "cell_type": "code",
      "execution_count": null,
      "metadata": {
        "id": "Glxl6G1HI_jl"
      },
      "outputs": [],
      "source": [
        "test_X=test_X.astype('int')\n"
      ]
    },
    {
      "cell_type": "code",
      "execution_count": null,
      "metadata": {
        "id": "yNhpWqgsCAqW"
      },
      "outputs": [],
      "source": [
        "#Random undersampling for balancing data\n",
        "rus = RandomUnderSampler(random_state=0)\n",
        "x_rus, y_rus = rus.fit_resample(train_X, train_y)\n",
        "x_test, y_test = rus.fit_resample(test_X, test_y)\n"
      ]
    },
    {
      "cell_type": "code",
      "execution_count": null,
      "metadata": {
        "colab": {
          "background_save": true,
          "base_uri": "https://localhost:8080/"
        },
        "id": "vanSMTAQCNNy",
        "outputId": "19d473e1-5160-42c3-e4e1-78588cf9dfc5"
      },
      "outputs": [],
      "source": [
        "from sklearn.ensemble import RandomForestClassifier\n",
        "from art.estimators.classification.scikitlearn import ScikitlearnRandomForestClassifier\n",
        "from sklearn.model_selection import train_test_split\n",
        "\n",
        "\n",
        "\n",
        "model = RandomForestClassifier(random_state = 42)\n",
        "model = GridSearchCV(rf, param_grid, cv=5, scoring='accuracy')\n",
        "model.fit(x_rus.values, y_rus)\n",
        "print(\"Best parameters of Random Forest: \",model.best_params_)\n",
        "\n",
        "art_classifier = ScikitlearnRandomForestClassifier(model.best_estimator_)\n",
        "\n",
        "print('Base model accuracy: ', model.best_estimator_.score(x_test.values, y_test))"
      ]
    },
    {
      "cell_type": "code",
      "execution_count": null,
      "metadata": {
        "colab": {
          "base_uri": "https://localhost:8080/"
        },
        "id": "cODo1ZsfCOZb",
        "outputId": "7c8b22ad-6450-4f61-fd42-49b9bb7a7515"
      },
      "outputs": [
        {
          "name": "stdout",
          "output_type": "stream",
          "text": [
            "Members Accuracy: 0.8735\n",
            "Non Members Accuracy 0.12753700\n",
            "Attack Accuracy 0.7241\n"
          ]
        }
      ],
      "source": [
        "import numpy as np\n",
        "from art.attacks.inference.membership_inference import MembershipInferenceBlackBoxRuleBased\n",
        "\n",
        "attack = MembershipInferenceBlackBoxRuleBased(art_classifier)\n",
        "\n",
        "# infer attacked feature\n",
        "inferred_train = attack.infer(x_rus, y_rus)\n",
        "inferred_test = attack.infer(x_test, y_test)\n",
        "\n",
        "# check accuracy\n",
        "train_acc = np.sum(inferred_train) / len(inferred_train)\n",
        "test_acc = 1 - (np.sum(inferred_test) / len(inferred_test))\n",
        "acc = (train_acc * len(inferred_train) + test_acc * len(inferred_test)) / (len(inferred_train) + len(inferred_test))\n",
        "print(f\"Members Accuracy: {train_acc:.4f}\")\n",
        "\n"
      ]
    }
  ],
  "metadata": {
    "colab": {
      "provenance": []
    },
    "kernelspec": {
      "display_name": "Python 3",
      "name": "python3"
    },
    "language_info": {
      "name": "python"
    }
  },
  "nbformat": 4,
  "nbformat_minor": 0
}
